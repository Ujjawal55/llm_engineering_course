{
 "cells": [
  {
   "cell_type": "markdown",
   "id": "d15d8294-3328-4e07-ad16-8a03e9bbfdb9",
   "metadata": {},
   "source": [
    "# Welcome to your first assignment!\n",
    "\n",
    "Instructions are below. Please give this a try, and look in the solutions folder if you get stuck (or feel free to ask me!)"
   ]
  },
  {
   "cell_type": "markdown",
   "id": "ada885d9-4d42-4d9b-97f0-74fbbbfe93a9",
   "metadata": {},
   "source": [
    "<table style=\"margin: 0; text-align: left;\">\n",
    "    <tr>\n",
    "        <td style=\"width: 150px; height: 150px; vertical-align: middle;\">\n",
    "            <img src=\"../resources.jpg\" width=\"150\" height=\"150\" style=\"display: block;\" />\n",
    "        </td>\n",
    "        <td>\n",
    "            <h2 style=\"color:#f71;\">Just before we get to the assignment --</h2>\n",
    "            <span style=\"color:#f71;\">I thought I'd take a second to point you at this page of useful resources for the course. This includes links to all the slides.<br/>\n",
    "            <a href=\"https://edwarddonner.com/2024/11/13/llm-engineering-resources/\">https://edwarddonner.com/2024/11/13/llm-engineering-resources/</a><br/>\n",
    "            Please keep this bookmarked, and I'll continue to add more useful links there over time.\n",
    "            </span>\n",
    "        </td>\n",
    "    </tr>\n",
    "</table>"
   ]
  },
  {
   "cell_type": "markdown",
   "id": "6e9fa1fc-eac5-4d1d-9be4-541b3f2b3458",
   "metadata": {},
   "source": [
    "# HOMEWORK EXERCISE ASSIGNMENT\n",
    "\n",
    "Upgrade the day 1 project to summarize a webpage to use an Open Source model running locally via Ollama rather than OpenAI\n",
    "\n",
    "You'll be able to use this technique for all subsequent projects if you'd prefer not to use paid APIs.\n",
    "\n",
    "**Benefits:**\n",
    "1. No API charges - open-source\n",
    "2. Data doesn't leave your box\n",
    "\n",
    "**Disadvantages:**\n",
    "1. Significantly less power than Frontier Model\n",
    "\n",
    "## Recap on installation of Ollama\n",
    "\n",
    "Simply visit [ollama.com](https://ollama.com) and install!\n",
    "\n",
    "Once complete, the ollama server should already be running locally.  \n",
    "If you visit:  \n",
    "[http://localhost:11434/](http://localhost:11434/)\n",
    "\n",
    "You should see the message `Ollama is running`.  \n",
    "\n",
    "If not, bring up a new Terminal (Mac) or Powershell (Windows) and enter `ollama serve`  \n",
    "And in another Terminal (Mac) or Powershell (Windows), enter `ollama pull llama3.2`  \n",
    "Then try [http://localhost:11434/](http://localhost:11434/) again.\n",
    "\n",
    "If Ollama is slow on your machine, try using `llama3.2:1b` as an alternative. Run `ollama pull llama3.2:1b` from a Terminal or Powershell, and change the code below from `MODEL = \"llama3.2\"` to `MODEL = \"llama3.2:1b\"`"
   ]
  },
  {
   "cell_type": "code",
   "execution_count": 1,
   "id": "4e2a9393-7767-488e-a8bf-27c12dca35bd",
   "metadata": {},
   "outputs": [],
   "source": [
    "# imports\n",
    "\n",
    "import requests\n",
    "from bs4 import BeautifulSoup\n",
    "from IPython.display import Markdown, display"
   ]
  },
  {
   "cell_type": "code",
   "execution_count": 2,
   "id": "29ddd15d-a3c5-4f4e-a678-873f56162724",
   "metadata": {},
   "outputs": [],
   "source": [
    "# Constants\n",
    "\n",
    "OLLAMA_API = \"http://localhost:11434/api/chat\"\n",
    "HEADERS = {\"Content-Type\": \"application/json\"}\n",
    "MODEL = \"qwen2.5\""
   ]
  },
  {
   "cell_type": "code",
   "execution_count": 3,
   "id": "dac0a679-599c-441f-9bf2-ddc73d35b940",
   "metadata": {},
   "outputs": [],
   "source": [
    "# Create a messages list using the same format that we used for OpenAI\n",
    "\n",
    "messages = [\n",
    "    {\"role\": \"user\", \"content\": \"Describe some of the business applications of Generative AI\"}\n",
    "]"
   ]
  },
  {
   "cell_type": "code",
   "execution_count": 4,
   "id": "7bb9c624-14f0-4945-a719-8ddb64f66f47",
   "metadata": {},
   "outputs": [],
   "source": [
    "payload = {\n",
    "        \"model\": MODEL,\n",
    "        \"messages\": messages,\n",
    "        \"stream\": False\n",
    "    }"
   ]
  },
  {
   "cell_type": "code",
   "execution_count": 5,
   "id": "42b9f644-522d-4e05-a691-56e7658c0ea9",
   "metadata": {},
   "outputs": [
    {
     "name": "stdout",
     "output_type": "stream",
     "text": [
      "Generative AI has a wide array of business applications across various industries due to its ability to create content, designs, and data that closely mimic human creativity and output. Here are some key business applications:\n",
      "\n",
      "1. **Content Creation**: \n",
      "   - **Marketing Content**: Tools like copywriting assistants can generate personalized marketing emails, product descriptions, and social media posts.\n",
      "   - **Article Generation**: Newsrooms and PR agencies use AI to create articles, press releases, and blogs that are coherent and engaging.\n",
      "\n",
      "2. **Customer Service and Support**:\n",
      "   - **Chatbots and Virtual Assistants**: AI-driven chatbots can handle customer inquiries 24/7, providing personalized support and assistance.\n",
      "   - **Sentiment Analysis**: Businesses can analyze social media and online reviews to gauge public sentiment about their products or services.\n",
      "\n",
      "3. **Design and Creative Fields**:\n",
      "   - **Logo Design**: AI tools can create logos that align with a brand’s identity and appeal to target audiences.\n",
      "   - **Image Generation**: For e-commerce, gaming, and advertising industries, generative AI can produce realistic images of products, characters, and environments.\n",
      "\n",
      "4. **Finance and Banking**:\n",
      "   - **Risk Assessment**: AI models can analyze vast amounts of financial data to predict market trends and assess risks for investments or loan approvals.\n",
      "   - **Portfolio Management**: Financial advisors can use AI to recommend investment portfolios based on risk tolerance and other factors.\n",
      "\n",
      "5. **Healthcare**:\n",
      "   - **Medical Imaging Analysis**: AI can help in diagnosing diseases by analyzing X-rays, MRIs, and CT scans more accurately than human eyes sometimes can.\n",
      "   - **Drug Discovery**: Generative models can predict the structure of molecules that could potentially be used as drugs.\n",
      "\n",
      "6. **Education**:\n",
      "   - **Personalized Learning Paths**: AI can create customized learning materials and assessments for students based on their performance and learning pace.\n",
      "   - **Content Generation**: Generating educational content like quizzes, lesson plans, and interactive modules to enhance engagement and learning outcomes.\n",
      "\n",
      "7. **Manufacturing and Quality Control**:\n",
      "   - **Defect Detection**: AI can analyze images or videos of products in real-time to detect defects before they reach the market.\n",
      "   - **Product Design**: AI tools can assist in designing complex parts with minimal human intervention, optimizing material usage and reducing costs.\n",
      "\n",
      "8. **E-commerce**:\n",
      "   - **Personalized Recommendations**: E-commerce platforms use generative models to provide personalized product recommendations based on browsing history and purchase behavior.\n",
      "   - **Virtual Try-Ons**: For fashion retailers, AI can create virtual try-on experiences allowing customers to see how clothes or makeup might look before purchasing.\n",
      "\n",
      "9. **Security and Fraud Prevention**:\n",
      "   - **Behavioral Analysis**: Monitoring user behavior patterns to detect unusual activities that could indicate fraud or security breaches.\n",
      "   - **Image Recognition**: Identifying fake documents, images, or videos used for identity theft or other fraudulent purposes.\n",
      "\n",
      "10. **Supply Chain Management**:\n",
      "    - **Inventory Optimization**: AI can predict demand fluctuations and optimize inventory levels to reduce waste and increase efficiency.\n",
      "    - **Logistics Planning**: AI tools can plan routes, schedule deliveries, and manage logistics in real-time based on current traffic conditions and weather forecasts.\n",
      "\n",
      "These applications illustrate the versatility of generative AI and its potential to transform various business processes by enhancing productivity, creativity, and decision-making capabilities.\n"
     ]
    }
   ],
   "source": [
    "# If this doesn't work for any reason, try the 2 versions in the following cells\n",
    "# And double check the instructions in the 'Recap on installation of Ollama' at the top of this lab\n",
    "# And if none of that works - contact me!\n",
    "\n",
    "response = requests.post(OLLAMA_API, json=payload, headers=HEADERS)\n",
    "print(response.json()['message']['content'])"
   ]
  },
  {
   "cell_type": "markdown",
   "id": "6a021f13-d6a1-4b96-8e18-4eae49d876fe",
   "metadata": {},
   "source": [
    "# Introducing the ollama package\n",
    "\n",
    "And now we'll do the same thing, but using the elegant ollama python package instead of a direct HTTP call.\n",
    "\n",
    "Under the hood, it's making the same call as above to the ollama server running at localhost:11434"
   ]
  },
  {
   "cell_type": "code",
   "execution_count": 6,
   "id": "7745b9c4-57dc-4867-9180-61fa5db55eb8",
   "metadata": {},
   "outputs": [
    {
     "name": "stdout",
     "output_type": "stream",
     "text": [
      "Generative Artificial Intelligence (AI) has a wide range of business applications across various industries. Here are some key areas where generative AI can be utilized:\n",
      "\n",
      "1. **Content Generation**: \n",
      "   - **Marketing and Advertising**: Creating personalized ad copy, product descriptions, and social media posts.\n",
      "   - **Blog Posts and Articles**: Automating the creation of blog content, articles, or press releases with a human-like style.\n",
      "\n",
      "2. **Customer Service and Support**:\n",
      "   - **Chatbots and Virtual Assistants**: Enhancing chatbot interactions by generating more natural and contextually relevant responses to customer queries.\n",
      "   - **Troubleshooting Guides**: Automatically generating step-by-step guides for common issues faced by customers.\n",
      "\n",
      "3. **Creative Industries**:\n",
      "   - **Design and Graphics**: Generating design concepts, logos, or artwork that can inspire human designers.\n",
      "   - **Music Composition**: Creating original music tracks or compositions using generative models.\n",
      "\n",
      "4. **Data Analysis and Research**:\n",
      "   - **Synthetic Data Generation**: Creating realistic but non-identifiable datasets for training machine learning models without compromising privacy.\n",
      "   - **Predictive Analytics**: Generating predictive scenarios based on historical data to assist in strategic planning.\n",
      "\n",
      "5. **Virtual Reality (VR) and Augmented Reality (AR)**:\n",
      "   - **World Modeling**: Creating virtual environments or worlds that can be used in gaming, education, or training simulations.\n",
      "   - **Customizable Avatars and Characters**: Designing unique characters for VR experiences or games using generative algorithms.\n",
      "\n",
      "6. **Healthcare**:\n",
      "   - **Medical Imaging**: Generating synthetic medical images to test and validate AI models without using real patient data.\n",
      "   - **Personalized Treatment Plans**: Creating customized treatment plans based on individual patient data.\n",
      "\n",
      "7. **Finance**:\n",
      "   - **Fraud Detection**: Generating realistic fraudulent transactions for training fraud detection systems.\n",
      "   - **Risk Analysis**: Simulating various market scenarios to assess financial risk and generate insights.\n",
      "\n",
      "8. **Automotive Industry**:\n",
      "   - **Virtual Testing Environments**: Creating virtual test environments for autonomous driving technology, allowing safer testing of AI systems in simulated real-world conditions.\n",
      "   - **Car Design**: Generating design ideas for car parts or entire vehicles based on customer preferences.\n",
      "\n",
      "9. **Retail and E-commerce**:\n",
      "   - **Product Descriptions**: Automatically generating product descriptions that can be customized to fit specific styles or tones.\n",
      "   - **Virtual Try-Ons**: Creating realistic virtual try-ons for clothing, accessories, or makeup using generative models.\n",
      "\n",
      "10. **Education and Training**:\n",
      "    - **Simulation Scenarios**: Generating realistic simulation scenarios for training purposes in fields like medicine, aviation, or military operations.\n",
      "    - **Interactive Learning Materials**: Creating interactive learning materials that adapt to the learner’s pace and style of learning.\n",
      "\n",
      "These applications showcase how generative AI can enhance various business processes by increasing efficiency, reducing costs, and improving the quality of outputs. However, it's important to consider ethical and privacy concerns when deploying these technologies in real-world settings.\n"
     ]
    }
   ],
   "source": [
    "import ollama\n",
    "\n",
    "response = ollama.chat(model=MODEL, messages=messages)\n",
    "print(response['message']['content'])"
   ]
  },
  {
   "cell_type": "markdown",
   "id": "a4704e10-f5fb-4c15-a935-f046c06fb13d",
   "metadata": {},
   "source": [
    "## Alternative approach - using OpenAI python library to connect to Ollama"
   ]
  },
  {
   "cell_type": "code",
   "execution_count": null,
   "id": "23057e00-b6fc-4678-93a9-6b31cb704bff",
   "metadata": {},
   "outputs": [],
   "source": [
    "# There's actually an alternative approach that some people might prefer\n",
    "# You can use the OpenAI client python library to call Ollama:\n",
    "\n",
    "from openai import OpenAI\n",
    "ollama_via_openai = OpenAI(base_url='http://localhost:11434/v1', api_key='ollama')\n",
    "\n",
    "response = ollama_via_openai.chat.completions.create(\n",
    "    model=MODEL,\n",
    "    messages=messages\n",
    ")\n",
    "\n",
    "print(response.choices[0].message.content)"
   ]
  },
  {
   "cell_type": "markdown",
   "id": "1622d9bb-5c68-4d4e-9ca4-b492c751f898",
   "metadata": {},
   "source": [
    "# NOW the exercise for you\n",
    "\n",
    "Take the code from day1 and incorporate it here, to build a website summarizer that uses Llama 3.2 running locally instead of OpenAI; use either of the above approaches."
   ]
  },
  {
   "cell_type": "code",
   "execution_count": 1,
   "id": "402d5686-4e76-4110-b65a-b3906c35c0a4",
   "metadata": {},
   "outputs": [
    {
     "name": "stdout",
     "output_type": "stream",
     "text": [
      "testing the course\n"
     ]
    }
   ],
   "source": [
    "print(\"testing the course\")"
   ]
  },
  {
   "cell_type": "code",
   "execution_count": null,
   "id": "c61b235b-4b9d-40cf-9d69-8e0156b92f6d",
   "metadata": {},
   "outputs": [],
   "source": []
  }
 ],
 "metadata": {
  "kernelspec": {
   "display_name": "Python 3 (ipykernel)",
   "language": "python",
   "name": "python3"
  },
  "language_info": {
   "codemirror_mode": {
    "name": "ipython",
    "version": 3
   },
   "file_extension": ".py",
   "mimetype": "text/x-python",
   "name": "python",
   "nbconvert_exporter": "python",
   "pygments_lexer": "ipython3",
   "version": "3.11.11"
  }
 },
 "nbformat": 4,
 "nbformat_minor": 5
}
