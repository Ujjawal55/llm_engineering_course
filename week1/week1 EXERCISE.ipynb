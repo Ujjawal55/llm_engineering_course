{
 "cells": [
  {
   "cell_type": "markdown",
   "id": "fe12c203-e6a6-452c-a655-afb8a03a4ff5",
   "metadata": {},
   "source": [
    "# End of week 1 exercise\n",
    "\n",
    "To demonstrate your familiarity with OpenAI API, and also Ollama, build a tool that takes a technical question,  \n",
    "and responds with an explanation. This is a tool that you will be able to use yourself during the course!"
   ]
  },
  {
   "cell_type": "code",
   "execution_count": 68,
   "id": "c1070317-3ed9-4659-abe3-828943230e03",
   "metadata": {},
   "outputs": [],
   "source": [
    "# imports\n",
    "import os\n",
    "import requests\n",
    "from dotenv import load_dotenv\n",
    "from openai import OpenAI\n",
    "from IPython.display import Markdown, display"
   ]
  },
  {
   "cell_type": "code",
   "execution_count": 69,
   "id": "4a456906-915a-4bfd-bb9d-57e505c5093f",
   "metadata": {},
   "outputs": [],
   "source": [
    "# constants\n",
    "\n",
    "MODEL_GPT = 'gpt-4o-mini'\n",
    "MODEL_LLAMA = 'llama3.2'"
   ]
  },
  {
   "cell_type": "code",
   "execution_count": 70,
   "id": "a8d7923c-5f28-4c30-8556-342d7c8497c1",
   "metadata": {},
   "outputs": [],
   "source": [
    "# set up environment\n",
    "load_dotenv(override=True)\n",
    "api_key = os.getenv(\"OPENAI_API_KEY\")\n",
    "openai = OpenAI()"
   ]
  },
  {
   "cell_type": "code",
   "execution_count": 71,
   "id": "3f0d0137-52b0-47a8-81a8-11a90a010798",
   "metadata": {},
   "outputs": [],
   "source": [
    "# here is the question; type over this to ask something new\n",
    "\n",
    "question = \"\"\"\n",
    "Please explain what this code does and why:\n",
    "yield from {book.get(\"author\") for book in books if book.get(\"author\")}\n",
    "\"\"\""
   ]
  },
  {
   "cell_type": "code",
   "execution_count": null,
   "id": "10562253-252b-4fb4-8ba6-526e620cda2b",
   "metadata": {},
   "outputs": [],
   "source": []
  },
  {
   "cell_type": "code",
   "execution_count": 72,
   "id": "d9f19818-bd9d-4515-af63-00e7d01f027a",
   "metadata": {},
   "outputs": [],
   "source": [
    "system_prompt = \"\"\"\n",
    "    you are a assisstent specially designed answer the user question. first explain the user technically and then provide the simple \\\n",
    "    non-techinical jargon answer. then provide the user with the example and then explain the example in detail. try to answer the problem\\\n",
    "    in the markdown format with clear distinction of which topic are you explaning.\n",
    "\"\"\""
   ]
  },
  {
   "cell_type": "code",
   "execution_count": 73,
   "id": "daf290ce-7e8a-4a73-be90-aded0e738b4b",
   "metadata": {},
   "outputs": [],
   "source": [
    "def get_answer_from_gpt(question: str, system_prompt: str):\n",
    "    response = openai.chat.completions.create(\n",
    "        model=MODEL_GPT,\n",
    "        messages=[\n",
    "            { \"role\": \"system\", \"content\" : system_prompt},\n",
    "            { \"role\" : \"user\", \"content\" : question}\n",
    "        ],\n",
    "    )\n",
    "    return response.choices[0].message.content"
   ]
  },
  {
   "cell_type": "code",
   "execution_count": 80,
   "id": "60ce7000-a4a5-4cce-a261-e75ef45063b4",
   "metadata": {
    "collapsed": true,
    "jupyter": {
     "outputs_hidden": true
    },
    "scrolled": true
   },
   "outputs": [
    {
     "data": {
      "text/markdown": [
       "### Technical Explanation\n",
       "\n",
       "The given code snippet utilizes a generator expression in Python that employs the `yield from` statement alongside a set comprehension. Here’s a breakdown of its components:\n",
       "\n",
       "1. **`{book.get(\"author\") for book in books if book.get(\"author\")}`:**\n",
       "   - This is a set comprehension that iterates over each `book` in the `books` collection.\n",
       "   - For each `book`, it retrieves the value associated with the key `\"author\"` using `book.get(\"author\")`.\n",
       "   - The comprehension includes a conditional `if book.get(\"author\")` which filters out any books that do not have an author (i.e., it only includes those books where `\"author\"` is not `None` or an empty string).\n",
       "   - The output of this comprehension is a set of unique author values.\n",
       "\n",
       "2. **`yield from`:**\n",
       "   - This keyword is used in Python to yield values from a generator. It allows the generator function to yield all values produced by another iterable (in this case, the set created by the set comprehension).\n",
       "   - Using `yield from` helps to streamline the code and allows for cleaner handling of the yielded values, especially if there are multiple items to yield.\n",
       "\n",
       "### Non-Technical Jargon Explanation\n",
       "\n",
       "This code is a way to create a list of unique authors from a collection of books. It checks each book to see if there is an author listed, and if there is, it takes that author's name. Then, it sends out all the unique author names found in the list of books.\n",
       "\n",
       "### Example\n",
       "\n",
       "Let's say we have a list of books represented as dictionaries:\n",
       "\n",
       "```python\n",
       "books = [\n",
       "    {\"title\": \"Book One\", \"author\": \"Author A\"},\n",
       "    {\"title\": \"Book Two\", \"author\": \"Author B\"},\n",
       "    {\"title\": \"Book Three\", \"author\": \"Author A\"},  # Duplicate author\n",
       "    {\"title\": \"Book Four\", \"author\": None},         # No author\n",
       "    {\"title\": \"Book Five\", \"author\": \"Author C\"}\n",
       "]\n",
       "```\n",
       "\n",
       "Using the code snippet:\n",
       "\n",
       "```python\n",
       "authors = yield from {book.get(\"author\") for book in books if book.get(\"author\")}\n",
       "```\n",
       "\n",
       "The output generated by this code would be a set containing: `{'Author A', 'Author B', 'Author C'}`\n",
       "\n",
       "### Detailed Example Explanation\n",
       "\n",
       "1. The `books` list contains dictionaries for each book, some of which have authors, and others do not. Notably, \"Book Three\" has the same author as \"Book One\" but will only be counted once in the final result.\n",
       "\n",
       "2. The set comprehension `{book.get(\"author\") for book in books if book.get(\"author\")}` processes the `books` list:\n",
       "   - For \"Book One,\" it retrieves \"Author A.\"\n",
       "   - For \"Book Two,\" it retrieves \"Author B.\"\n",
       "   - For \"Book Three,\" it again retrieves \"Author A,\" but since sets do not allow duplicates, it will not be added again.\n",
       "   - For \"Book Four,\" it finds that there is no author (returns `None`), so it is skipped.\n",
       "   - For \"Book Five,\" it retrieves \"Author C.\"\n",
       "\n",
       "3. The final set of unique authors is `{'Author A', 'Author B', 'Author C'}`.\n",
       "\n",
       "4. The `yield from` statement sends out each of these unique author names one at a time when accessed, effectively making this a generator that can be iterated over. \n",
       "\n",
       "This method of collecting authors ensures not only that all authors are captured but also that there are no duplicates, keeping the process efficient and clean."
      ],
      "text/plain": [
       "<IPython.core.display.Markdown object>"
      ]
     },
     "metadata": {},
     "output_type": "display_data"
    }
   ],
   "source": [
    "# Get gpt-4o-mini to answer, with streaming\n",
    "answer = get_answer_from_gpt(question, system_prompt)\n",
    "display(Markdown(answer))"
   ]
  },
  {
   "cell_type": "code",
   "execution_count": 95,
   "id": "c92f3440-2501-4c70-a804-02bba986e905",
   "metadata": {},
   "outputs": [],
   "source": [
    "# code for the response from the ollma model\n",
    "def get_answer_from_ollama(question: str, system_prompt: str):\n",
    "    URL = \"http://127.0.0.1:11434/api/chat\"\n",
    "    MODEL = \"qwen2.5:latest\"\n",
    "    HEADERS = {\"Content-Type\": \"application/json\"}\n",
    "    \n",
    "    messages = [\n",
    "        { \"role\": \"system\", \"content\" : system_prompt},\n",
    "        { \"role\" : \"user\", \"content\" : question}      \n",
    "    ]\n",
    "    \n",
    "    payload = {\n",
    "        \"model\" : MODEL,\n",
    "        \"messages\" : messages,\n",
    "        \"stream\" : False\n",
    "    }\n",
    "\n",
    "    response = requests.post(url, json=payload, headers=HEADERS)\n",
    "    return (response.json())['message']['content']"
   ]
  },
  {
   "cell_type": "code",
   "execution_count": 96,
   "id": "8f7c8ea8-4082-4ad0-8751-3301adcf6538",
   "metadata": {},
   "outputs": [
    {
     "data": {
      "text/markdown": [
       "```markdown\n",
       "## Technical Explanation\n",
       "\n",
       "### Code Analysis: `yield from {book.get(\"author\") for book in books if book.get(\"author\")}`\n",
       "\n",
       "This line of Python code is using a generator expression to filter through a list or iterable (`books`), extracting the value of the key `\"author\"` from each dictionary that contains this key, and then yielding these values.\n",
       "\n",
       "1. **Generator Expression**:\n",
       "   - `{book.get(\"author\") for book in books if book.get(\"author\")}`: This is a set comprehension.\n",
       "   - It iterates over `books`, checks if each item (`book`) has an `\"author\"` key using the `get` method (which returns `None` if the key does not exist).\n",
       "   - For each dictionary that contains the `\"author\"` key, it extracts and adds the value to a set.\n",
       "\n",
       "2. **`yield from`**:\n",
       "   - The `yield from` statement is used here to delegate iteration to the generator produced by the comprehension.\n",
       "   - This means that any caller of this function will get the values as they are generated without needing to wait for all elements to be processed first.\n",
       "\n",
       "### Simple Non-Technical Explanation\n",
       "\n",
       "This code looks through a list of books and picks out the names of their authors, but only if each book has an author listed. It then hands these names over one by one to whoever is waiting to receive them.\n",
       "\n",
       "## Example\n",
       "\n",
       "Suppose we have a list of dictionaries representing books:\n",
       "\n",
       "```python\n",
       "books = [\n",
       "    {\"title\": \"Book1\", \"author\": \"Author1\"},\n",
       "    {\"title\": \"Book2\", \"author\": \"Author2\"},\n",
       "    {\"title\": \"Book3\"},  # No author here\n",
       "    {\"title\": \"Book4\", \"author\": \"Author3\"}\n",
       "]\n",
       "```\n",
       "\n",
       "### Detailed Explanation\n",
       "\n",
       "1. **Iteration and Filtering**:\n",
       "   - The code starts by iterating through each dictionary in the `books` list.\n",
       "   \n",
       "2. **Checking for Author**:\n",
       "   - For each book, it checks if the key `\"author\"` exists using `book.get(\"author\")`.\n",
       "   - If the key does not exist (`book.get(\"author\")` returns `None`), this book is skipped.\n",
       "\n",
       "3. **Extracting and Storing Authors**:\n",
       "   - For books that have an author, their author names are extracted.\n",
       "   - These names are added to a set (to ensure no duplicate authors).\n",
       "\n",
       "4. **Yielding the Results**:\n",
       "   - The `yield from` statement ensures that these author names are passed one by one as they are generated.\n",
       "\n",
       "### Output\n",
       "\n",
       "Given the example `books` list, the output would be:\n",
       "\n",
       "```python\n",
       "{'Author1', 'Author2', 'Author3'}\n",
       "```\n",
       "\n",
       "Each book's author is extracted and added to a set (to avoid duplicates), resulting in a collection of unique authors from the books where this information is available.\n",
       "```\n",
       "\n",
       "In summary, the provided code efficiently filters out the authors from a list of books, ensuring no duplicate entries by using a set comprehension and then yields these names one at a time."
      ],
      "text/plain": [
       "<IPython.core.display.Markdown object>"
      ]
     },
     "metadata": {},
     "output_type": "display_data"
    }
   ],
   "source": [
    "# Get Llama 3.2 to answer\n",
    "answer = get_answer_from_ollama(question, system_prompt)\n",
    "display(Markdown(answer))"
   ]
  },
  {
   "cell_type": "code",
   "execution_count": null,
   "id": "ee28c412-70c4-4792-91e8-341102e4a841",
   "metadata": {},
   "outputs": [],
   "source": []
  }
 ],
 "metadata": {
  "kernelspec": {
   "display_name": "Python 3 (ipykernel)",
   "language": "python",
   "name": "python3"
  },
  "language_info": {
   "codemirror_mode": {
    "name": "ipython",
    "version": 3
   },
   "file_extension": ".py",
   "mimetype": "text/x-python",
   "name": "python",
   "nbconvert_exporter": "python",
   "pygments_lexer": "ipython3",
   "version": "3.11.11"
  }
 },
 "nbformat": 4,
 "nbformat_minor": 5
}
